{
 "cells": [
  {
   "cell_type": "markdown",
   "metadata": {},
   "source": [
    "# データにラベル付けしてCNNで学習"
   ]
  },
  {
   "cell_type": "markdown",
   "metadata": {},
   "source": [
    "## ラベル付け"
   ]
  },
  {
   "cell_type": "code",
   "execution_count": 1,
   "metadata": {},
   "outputs": [],
   "source": [
    "import os\n",
    "import cv2\n",
    "import numpy as np\n",
    "import matplotlib.pyplot as plt"
   ]
  },
  {
   "cell_type": "code",
   "execution_count": 2,
   "metadata": {},
   "outputs": [],
   "source": [
    "name = [\"shina\", \"momo\", \"sora\"]"
   ]
  },
  {
   "cell_type": "code",
   "execution_count": 3,
   "metadata": {},
   "outputs": [
    {
     "name": "stdout",
     "output_type": "stream",
     "text": [
      "1295\n",
      "1680\n",
      "1225\n"
     ]
    }
   ],
   "source": [
    "# 教師データのラベル付け\n",
    "X_train = [] \n",
    "Y_train = [] \n",
    "for i in range(len(name)):\n",
    "    files = os.listdir(\"./data/train/\" + name[i])\n",
    "    print(len(files))\n",
    "    for j in range(0, len(files)-1):\n",
    "        n = os.path.join(\"./data/train/\" + name[i] + \"/\", files[j])\n",
    "        image = cv2.imread(n)\n",
    "        b,g,r = cv2.split(image)\n",
    "        image = cv2.merge([r,g,b])\n",
    "        X_train.append(image)\n",
    "        Y_train.append(i)"
   ]
  },
  {
   "cell_type": "code",
   "execution_count": 4,
   "metadata": {},
   "outputs": [
    {
     "name": "stdout",
     "output_type": "stream",
     "text": [
      "10\n",
      "10\n",
      "10\n"
     ]
    }
   ],
   "source": [
    "# テストデータのラベル付け\n",
    "X_test = [] # 画像データ読み込み\n",
    "Y_test = [] # ラベル（名前）\n",
    "for i in range(len(name)):\n",
    "    files = os.listdir(\"./data/test/\" + name[i])\n",
    "    print(len(files))\n",
    "    for j in range(0, len(files)-1):\n",
    "        n = os.path.join(\"./data/test/\" + name[i] + \"/\", files[j])\n",
    "        image = cv2.imread(n)\n",
    "        b,g,r = cv2.split(image)\n",
    "        image = cv2.merge([r,g,b])\n",
    "        X_test.append(image)\n",
    "        Y_test.append(i)"
   ]
  },
  {
   "cell_type": "markdown",
   "metadata": {},
   "source": [
    "## CNNで学習"
   ]
  },
  {
   "cell_type": "code",
   "execution_count": 5,
   "metadata": {},
   "outputs": [
    {
     "name": "stderr",
     "output_type": "stream",
     "text": [
      "/home/tatsuki/anaconda3/lib/python3.6/site-packages/h5py/__init__.py:36: FutureWarning: Conversion of the second argument of issubdtype from `float` to `np.floating` is deprecated. In future, it will be treated as `np.float64 == np.dtype(float).type`.\n",
      "  from ._conv import register_converters as _register_converters\n",
      "Using TensorFlow backend.\n"
     ]
    }
   ],
   "source": [
    "from keras.layers import Activation, Conv2D, Dense, Flatten, MaxPooling2D, Dropout\n",
    "from keras.models import Sequential\n",
    "from keras.utils.np_utils import to_categorical"
   ]
  },
  {
   "cell_type": "code",
   "execution_count": 6,
   "metadata": {},
   "outputs": [],
   "source": [
    "#行列に変換\n",
    "X_train=np.array(X_train)\n",
    "X_test=np.array(X_test)"
   ]
  },
  {
   "cell_type": "code",
   "execution_count": 7,
   "metadata": {},
   "outputs": [],
   "source": [
    "#クラスベクトルになってる整数をクラス行列に変換\n",
    "y_train = to_categorical(Y_train)\n",
    "y_test = to_categorical(Y_test)"
   ]
  },
  {
   "cell_type": "code",
   "execution_count": 8,
   "metadata": {},
   "outputs": [],
   "source": [
    "#CNN model MNISTのに近いけど上手くいかない\n",
    "#model = Sequential()\n",
    "#model.add(Conv2D(input_shape=(64, 64, 3), filters=32, kernel_size=(3, 3),\n",
    "#                 strides=(1, 1), padding=\"same\", activation='relu'))\n",
    "\n",
    "#model.add(Conv2D(filters=32, kernel_size=(3, 3), \n",
    "#                 strides=(1, 1), padding=\"same\", activation='relu'))\n",
    "#model.add(MaxPooling2D(pool_size=(2, 2)))\n",
    "\n",
    "#model.add(Conv2D(filters=32, kernel_size=(3, 3), \n",
    "#                 strides=(1, 1), padding=\"same\", activation='relu'))\n",
    "#model.add(MaxPooling2D(pool_size=(2, 2)))\n",
    "\n",
    "#model.add(Flatten())\n",
    "#model.add(Dense(256))\n",
    "#model.add(Activation(\"relu\"))\n",
    "#model.add(Dropout(0.5))\n",
    "#model.add(Dense(3))\n",
    "#model.add(Activation('softmax'))"
   ]
  },
  {
   "cell_type": "code",
   "execution_count": 9,
   "metadata": {},
   "outputs": [],
   "source": [
    "#CNN model\n",
    "model = Sequential()\n",
    "model.add(Conv2D(input_shape=(64, 64, 3), filters=32,kernel_size=(3, 3), \n",
    "                 strides=(1, 1), padding=\"same\"))\n",
    "model.add(MaxPooling2D(pool_size=(2, 2)))\n",
    "model.add(Conv2D(filters=32, kernel_size=(3, 3), \n",
    "                 strides=(1, 1), padding=\"same\"))\n",
    "model.add(MaxPooling2D(pool_size=(2, 2)))\n",
    "model.add(Conv2D(filters=32, kernel_size=(3, 3), \n",
    "                 strides=(1, 1), padding=\"same\"))\n",
    "model.add(MaxPooling2D(pool_size=(2, 2)))\n",
    "model.add(Flatten())\n",
    "model.add(Dense(256))\n",
    "model.add(Activation(\"sigmoid\"))\n",
    "model.add(Dense(128))\n",
    "model.add(Activation('sigmoid'))\n",
    "model.add(Dense(3))\n",
    "model.add(Activation('softmax'))"
   ]
  },
  {
   "cell_type": "code",
   "execution_count": 10,
   "metadata": {},
   "outputs": [],
   "source": [
    "#optimizer\n",
    "model.compile(optimizer='sgd',\n",
    "              loss='categorical_crossentropy',\n",
    "              metrics=['accuracy'])"
   ]
  },
  {
   "cell_type": "code",
   "execution_count": 11,
   "metadata": {
    "scrolled": true
   },
   "outputs": [
    {
     "name": "stdout",
     "output_type": "stream",
     "text": [
      "Train on 4197 samples, validate on 27 samples\n",
      "Epoch 1/30\n",
      "4197/4197 [==============================] - 19s 5ms/step - loss: 1.0640 - acc: 0.4427 - val_loss: 1.0992 - val_acc: 0.3333\n",
      "Epoch 2/30\n",
      "4197/4197 [==============================] - 18s 4ms/step - loss: 1.0350 - acc: 0.4768 - val_loss: 1.0097 - val_acc: 0.6667\n",
      "Epoch 3/30\n",
      "4197/4197 [==============================] - 18s 4ms/step - loss: 0.9755 - acc: 0.5628 - val_loss: 0.9979 - val_acc: 0.5926\n",
      "Epoch 4/30\n",
      "4197/4197 [==============================] - 20s 5ms/step - loss: 0.9134 - acc: 0.6235 - val_loss: 1.1162 - val_acc: 0.3333\n",
      "Epoch 5/30\n",
      "4197/4197 [==============================] - 19s 5ms/step - loss: 0.8527 - acc: 0.6595 - val_loss: 0.9252 - val_acc: 0.6296\n",
      "Epoch 6/30\n",
      "4197/4197 [==============================] - 19s 5ms/step - loss: 0.7636 - acc: 0.7162 - val_loss: 0.9692 - val_acc: 0.5185\n",
      "Epoch 7/30\n",
      "4197/4197 [==============================] - 20s 5ms/step - loss: 0.7109 - acc: 0.7453 - val_loss: 0.7999 - val_acc: 0.5926\n",
      "Epoch 8/30\n",
      "4197/4197 [==============================] - 19s 4ms/step - loss: 0.6431 - acc: 0.7574 - val_loss: 0.8146 - val_acc: 0.7407\n",
      "Epoch 9/30\n",
      "4197/4197 [==============================] - 18s 4ms/step - loss: 0.5903 - acc: 0.7803 - val_loss: 0.7267 - val_acc: 0.7778\n",
      "Epoch 10/30\n",
      "4197/4197 [==============================] - 19s 5ms/step - loss: 0.5330 - acc: 0.8084 - val_loss: 0.7375 - val_acc: 0.7037\n",
      "Epoch 11/30\n",
      "4197/4197 [==============================] - 18s 4ms/step - loss: 0.4942 - acc: 0.8270 - val_loss: 0.7459 - val_acc: 0.6667\n",
      "Epoch 12/30\n",
      "4197/4197 [==============================] - 18s 4ms/step - loss: 0.4584 - acc: 0.8416 - val_loss: 0.8071 - val_acc: 0.6667\n",
      "Epoch 13/30\n",
      "4197/4197 [==============================] - 18s 4ms/step - loss: 0.4280 - acc: 0.8528 - val_loss: 0.7204 - val_acc: 0.7037\n",
      "Epoch 14/30\n",
      "4197/4197 [==============================] - 18s 4ms/step - loss: 0.3777 - acc: 0.8790 - val_loss: 0.6533 - val_acc: 0.7407\n",
      "Epoch 15/30\n",
      "4197/4197 [==============================] - 18s 4ms/step - loss: 0.3378 - acc: 0.8930 - val_loss: 0.7256 - val_acc: 0.6667\n",
      "Epoch 16/30\n",
      "4197/4197 [==============================] - 17s 4ms/step - loss: 0.3201 - acc: 0.9052 - val_loss: 0.6547 - val_acc: 0.7037\n",
      "Epoch 17/30\n",
      "4197/4197 [==============================] - 17s 4ms/step - loss: 0.2794 - acc: 0.9164 - val_loss: 0.6110 - val_acc: 0.8519\n",
      "Epoch 18/30\n",
      "4197/4197 [==============================] - 18s 4ms/step - loss: 0.2734 - acc: 0.9202 - val_loss: 0.6223 - val_acc: 0.7778\n",
      "Epoch 19/30\n",
      "4197/4197 [==============================] - 18s 4ms/step - loss: 0.2326 - acc: 0.9371 - val_loss: 0.6197 - val_acc: 0.7407\n",
      "Epoch 20/30\n",
      "4197/4197 [==============================] - 20s 5ms/step - loss: 0.1947 - acc: 0.9552 - val_loss: 0.6366 - val_acc: 0.7778\n",
      "Epoch 21/30\n",
      "4197/4197 [==============================] - 22s 5ms/step - loss: 0.1635 - acc: 0.9659 - val_loss: 0.6294 - val_acc: 0.8148\n",
      "Epoch 22/30\n",
      "4197/4197 [==============================] - 19s 5ms/step - loss: 0.1587 - acc: 0.9640 - val_loss: 0.7530 - val_acc: 0.7407\n",
      "Epoch 23/30\n",
      "4197/4197 [==============================] - 20s 5ms/step - loss: 0.1344 - acc: 0.9766 - val_loss: 0.5678 - val_acc: 0.7407\n",
      "Epoch 24/30\n",
      "4197/4197 [==============================] - 20s 5ms/step - loss: 0.1140 - acc: 0.9845 - val_loss: 0.5018 - val_acc: 0.8519\n",
      "Epoch 25/30\n",
      "4197/4197 [==============================] - 22s 5ms/step - loss: 0.0964 - acc: 0.9864 - val_loss: 0.4987 - val_acc: 0.7778\n",
      "Epoch 26/30\n",
      "4197/4197 [==============================] - 21s 5ms/step - loss: 0.0872 - acc: 0.9878 - val_loss: 0.6123 - val_acc: 0.7778\n",
      "Epoch 27/30\n",
      "4197/4197 [==============================] - 22s 5ms/step - loss: 0.0735 - acc: 0.9917 - val_loss: 0.6782 - val_acc: 0.7778\n",
      "Epoch 28/30\n",
      "4197/4197 [==============================] - 21s 5ms/step - loss: 0.0652 - acc: 0.9936 - val_loss: 0.5803 - val_acc: 0.7778\n",
      "Epoch 29/30\n",
      "4197/4197 [==============================] - 21s 5ms/step - loss: 0.0543 - acc: 0.9955 - val_loss: 0.5618 - val_acc: 0.8148\n",
      "Epoch 30/30\n",
      "4197/4197 [==============================] - 20s 5ms/step - loss: 0.0458 - acc: 0.9962 - val_loss: 0.5360 - val_acc: 0.8148\n"
     ]
    }
   ],
   "source": [
    "#学習\n",
    "history = model.fit(X_train, y_train, batch_size=32, \n",
    "                    epochs=30, verbose=1, validation_data=(X_test, y_test))"
   ]
  },
  {
   "cell_type": "code",
   "execution_count": 12,
   "metadata": {},
   "outputs": [
    {
     "name": "stdout",
     "output_type": "stream",
     "text": [
      "validation loss:0.5359936356544495\n",
      "validation accuracy:0.8148148059844971\n"
     ]
    }
   ],
   "source": [
    "#精度評価・表示\n",
    "score = model.evaluate(X_test, y_test, batch_size=32, verbose=0)\n",
    "print('validation loss:{0[0]}\\nvalidation accuracy:{0[1]}'.format(score))"
   ]
  },
  {
   "cell_type": "code",
   "execution_count": 13,
   "metadata": {},
   "outputs": [
    {
     "data": {
      "image/png": "[encoded data removed]",
      "text/plain": [
       "<matplotlib.figure.Figure at 0x7f6dc9ff3940>"
      ]
     },
     "metadata": {},
     "output_type": "display_data"
    }
   ],
   "source": [
    "#acc, val_accのプロット\n",
    "plt.plot(history.history[\"acc\"], label=\"acc\", ls=\"-\", marker=\"o\")\n",
    "plt.plot(history.history[\"val_acc\"], label=\"val_acc\", ls=\"-\", marker=\"x\")\n",
    "plt.ylabel(\"accuracy\")\n",
    "plt.xlabel(\"epoch\")\n",
    "plt.legend(loc=\"best\")\n",
    "plt.show()"
   ]
  },
  {
   "cell_type": "code",
   "execution_count": 15,
   "metadata": {},
   "outputs": [],
   "source": [
    "#モデルを保存\n",
    "model.save(\"./data/1117_cnn_model.h5\")"
   ]
  }
 ],
 "metadata": {
  "kernelspec": {
   "display_name": "Python 3",
   "language": "python",
   "name": "python3"
  },
  "language_info": {
   "codemirror_mode": {
    "name": "ipython",
    "version": 3
   },
   "file_extension": ".py",
   "mimetype": "text/x-python",
   "name": "python",
   "nbconvert_exporter": "python",
   "pygments_lexer": "ipython3",
   "version": "3.6.4"
  }
 },
 "nbformat": 4,
 "nbformat_minor": 2
}
